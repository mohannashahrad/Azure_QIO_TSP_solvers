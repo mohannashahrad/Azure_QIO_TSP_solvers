{
  "cells": [
    {
      "attachments": {},
      "cell_type": "markdown",
      "metadata": {
        "id": "P2m8bZ0rLk7G"
      },
      "source": [
        "Traveling Salesman Problem(TSP)\n",
        "ECSE 420: Parallel Computing"
      ]
    },
    {
      "attachments": {},
      "cell_type": "markdown",
      "metadata": {
        "id": "r2qj1JNi2Ifs"
      },
      "source": [
        "## IMPORTS"
      ]
    },
    {
      "cell_type": "code",
      "execution_count": null,
      "metadata": {
        "id": "rJVLRSbqQRrz"
      },
      "outputs": [],
      "source": [
        "!pip install dimod -q\n",
        "!pip install dwave_networkx -q\n",
        "!pip install dwave-greedy -q\n",
        "!pip install ortools -q"
      ]
    },
    {
      "cell_type": "code",
      "execution_count": null,
      "metadata": {
        "id": "mINn-RjH1CEh"
      },
      "outputs": [],
      "source": [
        "import numpy as np\n",
        "import pandas as pd\n",
        "import networkx as nx\n",
        "import matplotlib.pyplot as plt\n",
        "import dimod as dm\n",
        "import dwave_networkx as dnx\n",
        "import greedy\n",
        "import itertools\n",
        "import time\n",
        "from ortools.constraint_solver import routing_enums_pb2\n",
        "from ortools.constraint_solver import pywrapcp\n",
        "from functools import lru_cache\n",
        "from typing import Dict, List, Optional, Tuple\n",
        "\n",
        "\n",
        "%matplotlib inline"
      ]
    },
    {
      "attachments": {},
      "cell_type": "markdown",
      "metadata": {
        "id": "WahRtinsDXfA"
      },
      "source": [
        "## SETUPS"
      ]
    },
    {
      "cell_type": "code",
      "execution_count": null,
      "metadata": {
        "id": "LjI3puAUDakt"
      },
      "outputs": [],
      "source": [
        "seed = 1\n",
        "np.random.seed(seed)"
      ]
    },
    {
      "attachments": {},
      "cell_type": "markdown",
      "metadata": {
        "id": "O0QwBtK42YhL"
      },
      "source": [
        "## DATASETS"
      ]
    },
    {
      "attachments": {},
      "cell_type": "markdown",
      "metadata": {
        "id": "bY4SzeSV5OG9"
      },
      "source": [
        "data_s: FIVE dataset which is set of 5 cities. This dataset has a minimum tour length of 19.\n",
        "\n",
        "data_m: P01 dataset which is set of 15 cities. This dataset has a minimum tour length of 291.\n",
        "\n",
        "data_l: FRI26 dataset which is set of 26 cities with minimum tour length of 937.\n",
        "\n",
        "data_xl: DANTZIG42 dataset which is set of 42 cities with minimum tour length of 699.\n",
        "\n",
        "[Link](https://people.sc.fsu.edu/~jburkardt/datasets/tsp/tsp.html) to datasets"
      ]
    },
    {
      "cell_type": "code",
      "execution_count": null,
      "metadata": {
        "id": "QE1nmC2_4X6i"
      },
      "outputs": [],
      "source": [
        "data_s = pd.read_csv('https://people.sc.fsu.edu/~jburkardt/datasets/tsp/five_d.txt', sep='\\s+', header=None)\n",
        "data_m = pd.read_csv('https://people.sc.fsu.edu/~jburkardt/datasets/tsp/p01_d.txt', sep='\\s+', header=None)\n",
        "data_l = pd.read_csv('https://people.sc.fsu.edu/~jburkardt/datasets/tsp/fri26_d.txt', sep='\\s+', header=None)\n",
        "data_xl = pd.read_csv('https://people.sc.fsu.edu/~jburkardt/datasets/tsp/dantzig42_d.txt', sep='\\s+', header=None)"
      ]
    },
    {
      "cell_type": "code",
      "execution_count": null,
      "metadata": {
        "colab": {
          "base_uri": "https://localhost:8080/"
        },
        "id": "HRenldia75a2",
        "outputId": "ef4b226b-f3f3-4c3d-9307-bf4a826394e0"
      },
      "outputs": [
        {
          "data": {
            "text/plain": [
              "(5, 5)"
            ]
          },
          "execution_count": 9,
          "metadata": {},
          "output_type": "execute_result"
        }
      ],
      "source": [
        "data_s.shape"
      ]
    },
    {
      "cell_type": "code",
      "execution_count": null,
      "metadata": {
        "colab": {
          "base_uri": "https://localhost:8080/"
        },
        "id": "wJo28uL_OUpB",
        "outputId": "ccba0d48-fc11-453d-e2ce-6c9beae01b0f"
      },
      "outputs": [
        {
          "data": {
            "text/plain": [
              "(15, 15)"
            ]
          },
          "execution_count": 10,
          "metadata": {},
          "output_type": "execute_result"
        }
      ],
      "source": [
        "data_m.shape"
      ]
    },
    {
      "cell_type": "code",
      "execution_count": null,
      "metadata": {
        "colab": {
          "base_uri": "https://localhost:8080/"
        },
        "id": "njgS7ewz8AlW",
        "outputId": "f1c73066-dbab-4248-c2f0-aba5657b2a9f"
      },
      "outputs": [
        {
          "data": {
            "text/plain": [
              "(26, 26)"
            ]
          },
          "execution_count": 11,
          "metadata": {},
          "output_type": "execute_result"
        }
      ],
      "source": [
        "data_l.shape"
      ]
    },
    {
      "cell_type": "code",
      "execution_count": null,
      "metadata": {
        "colab": {
          "base_uri": "https://localhost:8080/"
        },
        "id": "RJ2AVLBuMJqh",
        "outputId": "c851eefa-00f1-4746-f736-ca15e47c5c7f"
      },
      "outputs": [
        {
          "data": {
            "text/plain": [
              "(42, 42)"
            ]
          },
          "execution_count": 12,
          "metadata": {},
          "output_type": "execute_result"
        }
      ],
      "source": [
        "data_xl.shape"
      ]
    },
    {
      "attachments": {},
      "cell_type": "markdown",
      "metadata": {
        "id": "MF3e0l5aAMej"
      },
      "source": [
        "## GRAPHS"
      ]
    },
    {
      "cell_type": "code",
      "execution_count": null,
      "metadata": {
        "colab": {
          "base_uri": "https://localhost:8080/"
        },
        "id": "nzhN6L14ASD-",
        "outputId": "30853c0e-f77d-487e-fb0c-edcdfaf80a85"
      },
      "outputs": [
        {
          "name": "stdout",
          "output_type": "stream",
          "text": [
            "nodes of the small graph:  [0, 1, 2, 3, 4]\n",
            "edges of the small graph:  [(0, 1), (0, 2), (0, 3), (0, 4), (1, 2), (1, 3), (1, 4), (2, 3), (2, 4), (3, 4)]\n"
          ]
        },
        {
          "data": {
            "image/png": "[encoded data removed]",
            "text/plain": [
              "<Figure size 432x288 with 1 Axes>"
            ]
          },
          "metadata": {},
          "output_type": "display_data"
        }
      ],
      "source": [
        "graph_s =  nx.from_pandas_adjacency(data_s)\n",
        "pos_s = nx.spring_layout(graph_s, seed=seed)\n",
        "\n",
        "nodes_s = graph_s.nodes()\n",
        "edges_s = graph_s.edges()\n",
        "weights_s = nx.get_edge_attributes(graph_s, 'weight')\n",
        "\n",
        "plt.axis('off')\n",
        "nx.draw_networkx(graph_s, pos_s, with_labels=True)\n",
        "nx.draw_networkx_edge_labels(graph_s, pos_s, edge_labels=weights_s)\n",
        "\n",
        "print(\"nodes of the small graph: \", nodes_s)\n",
        "print(\"edges of the small graph: \", edges_s)"
      ]
    },
    {
      "cell_type": "code",
      "execution_count": null,
      "metadata": {
        "id": "ymGTAkB1PJ-7"
      },
      "outputs": [],
      "source": [
        "graph_m =  nx.from_pandas_adjacency(data_m)\n",
        "pos_m = nx.spring_layout(graph_m, seed=seed)\n",
        "\n",
        "nodes_m = graph_m.nodes()\n",
        "edges_m = graph_m.edges()\n",
        "weights_m = nx.get_edge_attributes(graph_m, 'weight')\n",
        "\n",
        "#NOTE: This graph is too large to plot."
      ]
    },
    {
      "cell_type": "code",
      "execution_count": null,
      "metadata": {
        "id": "JeX5K51aIPuT"
      },
      "outputs": [],
      "source": [
        "graph_l =  nx.from_pandas_adjacency(data_l)\n",
        "pos_l = nx.spring_layout(graph_l, seed=seed)\n",
        "\n",
        "nodes_l = graph_l.nodes()\n",
        "edges_l = graph_l.edges()\n",
        "weights_l = nx.get_edge_attributes(graph_l, 'weight')\n",
        "\n",
        "#NOTE: This graph is too large to plot."
      ]
    },
    {
      "cell_type": "code",
      "execution_count": null,
      "metadata": {
        "id": "UZY2jDBwPccD"
      },
      "outputs": [],
      "source": [
        "graph_xl =  nx.from_pandas_adjacency(data_xl)\n",
        "pos_xl = nx.spring_layout(graph_xl, seed=seed)\n",
        "\n",
        "nodes_xl = graph_xl.nodes()\n",
        "edges_xl = graph_xl.edges()\n",
        "weights_xl = nx.get_edge_attributes(graph_xl, 'weight')\n",
        "\n",
        "#NOTE: This graph is too large to plot."
      ]
    },
    {
      "attachments": {},
      "cell_type": "markdown",
      "metadata": {
        "id": "aPM2eIHVPSb-"
      },
      "source": [
        "## CLASSICAL METHODS"
      ]
    },
    {
      "attachments": {},
      "cell_type": "markdown",
      "metadata": {
        "id": "azk8QKsUGSHH"
      },
      "source": [
        "### Exact Algorithms"
      ]
    },
    {
      "attachments": {},
      "cell_type": "markdown",
      "metadata": {
        "id": "9jBcFxKDPVow"
      },
      "source": [
        "#### Brute-force"
      ]
    },
    {
      "cell_type": "code",
      "execution_count": null,
      "metadata": {
        "colab": {
          "base_uri": "https://localhost:8080/"
        },
        "id": "uumgPRK73DRx",
        "outputId": "62ab14f4-26f9-48fd-fd79-c625ac91cc55"
      },
      "outputs": [
        {
          "name": "stdout",
          "output_type": "stream",
          "text": [
            "Route for the tour:  (0, 2, 1, 4, 3)\n",
            "Minimum tour length using Brute Force:  19.0\n",
            "Execution Time:  0.008554697036743164s\n"
          ]
        }
      ],
      "source": [
        "start = time.time()\n",
        "\n",
        "# get all iterations\n",
        "p = itertools.permutations(nodes_s)\n",
        "\n",
        "min_route = []\n",
        "min_route_length = -1\n",
        "\n",
        "for route in list(p):\n",
        "  tour_len = 0\n",
        "  for idx, node in enumerate(route[:-1]):\n",
        "    dist = data_s[route[idx+1]][route[idx]]\n",
        "    tour_len += dist\n",
        "  tour_len += data_s[route[0]][route[-1]]\n",
        "\n",
        "  if min_route_length == -1:\n",
        "    min_route_length = tour_len\n",
        "    min_route = route\n",
        "  else:       \n",
        "    if min_route_length > tour_len :\n",
        "      min_route_length = tour_len\n",
        "      min_route = route\n",
        "  #print(\"Route for the tour: \", min_route)\n",
        "  #print(\"Minimum tour length using Brute Force: \", min_route_length)\n",
        "end = time.time()\n",
        "\n",
        "print(\"Route for the tour: \", min_route)\n",
        "print(\"Minimum tour length using Brute Force: \", min_route_length)\n",
        "print(\"Execution Time:  {}s\".format(end-start))"
      ]
    },
    {
      "attachments": {},
      "cell_type": "markdown",
      "metadata": {
        "id": "N8cF6kpCkbJ3"
      },
      "source": [
        "#### Dynamic Programming"
      ]
    },
    {
      "cell_type": "code",
      "execution_count": null,
      "metadata": {
        "colab": {
          "base_uri": "https://localhost:8080/"
        },
        "id": "v-Hdn5hskfV-",
        "outputId": "e8617932-e922-4839-904f-2862f98f3db4"
      },
      "outputs": [
        {
          "name": "stdout",
          "output_type": "stream",
          "text": [
            "Route for the tour:  [0, 2, 1, 4, 3]\n",
            "Minimum tour length using Dynamic Programming  19.0\n",
            "Execution Time:  0.0004031658172607422s\n"
          ]
        }
      ],
      "source": [
        "#Dynamic Programming Approach \n",
        "\n",
        "def solve_tsp_dynamic_programming(\n",
        "    distance_matrix: np.ndarray,\n",
        "    maxsize: Optional[int] = None,\n",
        ") -> Tuple[List, float]:\n",
        "    # Get initial set {1, 2, ..., tsp_size} as a frozenset because @lru_cache\n",
        "    # requires a hashable type\n",
        "    N = frozenset(range(1, distance_matrix.shape[0]))\n",
        "    memo: Dict[Tuple, int] = {}\n",
        "\n",
        "    # Step 1: get minimum distance\n",
        "    @lru_cache(maxsize=maxsize)\n",
        "    def dist(ni: int, N: frozenset) -> float:\n",
        "        if not N:\n",
        "            return distance_matrix[ni, 0]\n",
        "\n",
        "        # Store the costs in the form (nj, dist(nj, N))\n",
        "        costs = [\n",
        "            (nj, distance_matrix[ni, nj] + dist(nj, N.difference({nj})))\n",
        "            for nj in N\n",
        "        ]\n",
        "        nmin, min_cost = min(costs, key=lambda x: x[1])\n",
        "        memo[(ni, N)] = nmin\n",
        "        return min_cost\n",
        "\n",
        "    best_distance = dist(0, N)\n",
        "\n",
        "    # Step 2: get path with the minimum distance\n",
        "    ni = 0  # start at the origin\n",
        "    solution = [0]\n",
        "    while N:\n",
        "        ni = memo[(ni, N)]\n",
        "        solution.append(ni)\n",
        "        N = N.difference({ni})\n",
        "\n",
        "    return solution, best_distance\n",
        "\n",
        "start = time.time()\n",
        "solution, best_distance = solve_tsp_dynamic_programming(data_s.to_numpy()) #data_s, data_m, or data_l\n",
        "end = time.time()\n",
        "# \n",
        "print(\"Route for the tour: \", solution)\n",
        "print(\"Minimum tour length using Dynamic Programming \", best_distance)\n",
        "print(\"Execution Time:  {}s\".format(end-start))"
      ]
    },
    {
      "attachments": {},
      "cell_type": "markdown",
      "metadata": {
        "id": "O1t1Kq2wHQBz"
      },
      "source": [
        "### Meta-Heuristic Algorithms"
      ]
    },
    {
      "attachments": {},
      "cell_type": "markdown",
      "metadata": {
        "id": "OpVnhxNwHVpi"
      },
      "source": [
        "#### D-Wave NetworkX"
      ]
    },
    {
      "cell_type": "code",
      "execution_count": null,
      "metadata": {
        "id": "jQ9x1HbZnh_G"
      },
      "outputs": [],
      "source": [
        "def networkx_solver(data, graph, strategy):\n",
        "  start = time.time()\n",
        "\n",
        "  # sampler\n",
        "  if(strategy == 'GREEDY_DESCENT'):\n",
        "    sampler = greedy.SteepestDescentSampler()\n",
        "  if(strategy == 'SIMULATED_ANNEALING'):\n",
        "    sampler = dm.SimulatedAnnealingSampler()\n",
        "\n",
        "  route = dnx.traveling_salesperson(graph, sampler, start=0)\n",
        "\n",
        "  # create output for print statements\n",
        "  tour_len = 0\n",
        "  for idx, node in enumerate(route[:-1]):\n",
        "    dist = data[route[idx+1]][route[idx]]\n",
        "    tour_len += dist\n",
        "  tour_len += data[route[0]][route[-1]]\n",
        "\n",
        "  end = time.time()\n",
        "\n",
        "  print(\"Route for the tour: \", route)\n",
        "  print(\"Minimum tour length: \", tour_len)\n",
        "  print(\"Execution Time:  {}s\".format(end-start))"
      ]
    },
    {
      "cell_type": "code",
      "execution_count": null,
      "metadata": {
        "colab": {
          "base_uri": "https://localhost:8080/"
        },
        "id": "FMK_u8rhPMdk",
        "outputId": "c98d9c50-eb50-4903-eaa3-008e73a2c4cf"
      },
      "outputs": [
        {
          "name": "stdout",
          "output_type": "stream",
          "text": [
            "Route for the tour:  [0, 1, 2, 4, 3]\n",
            "Minimum tour length:  23.0\n",
            "Execution Time:  0.004385709762573242s\n"
          ]
        }
      ],
      "source": [
        "networkx_solver(data_s, graph_s, 'GREEDY_DESCENT')"
      ]
    },
    {
      "cell_type": "code",
      "execution_count": null,
      "metadata": {
        "colab": {
          "base_uri": "https://localhost:8080/"
        },
        "id": "dnGYSVaiPp0d",
        "outputId": "94f29739-ae73-4794-b99b-c4d50711af82"
      },
      "outputs": [
        {
          "name": "stdout",
          "output_type": "stream",
          "text": [
            "Route for the tour:  [0, 12, 8, 14, 6, 13, 3, 10, 5, 11, 2, 4, 9, 7, 1]\n",
            "Minimum tour length:  456\n",
            "Execution Time:  0.05015373229980469s\n"
          ]
        }
      ],
      "source": [
        "networkx_solver(data_m, graph_m, 'GREEDY_DESCENT')"
      ]
    },
    {
      "cell_type": "code",
      "execution_count": null,
      "metadata": {
        "colab": {
          "base_uri": "https://localhost:8080/"
        },
        "id": "FTGOt-ROPtcB",
        "outputId": "d2139684-a401-4825-a6b7-1c7e12da5668"
      },
      "outputs": [
        {
          "name": "stdout",
          "output_type": "stream",
          "text": [
            "Route for the tour:  [0, 1, 10, 14, 13, 12, 15, 8, 6, 4, 3, 9, 23, 22, 24, 11, 2, 18, 7, 5, 19, 25, 20, 16, 17, 21]\n",
            "Minimum tour length:  1748\n",
            "Execution Time:  0.2851545810699463s\n"
          ]
        }
      ],
      "source": [
        "networkx_solver(data_l, graph_l, 'GREEDY_DESCENT')"
      ]
    },
    {
      "cell_type": "code",
      "execution_count": null,
      "metadata": {
        "colab": {
          "base_uri": "https://localhost:8080/"
        },
        "id": "xBBFuMAJPw3q",
        "outputId": "b6b69faa-2b42-4568-c922-24ced2a5053b"
      },
      "outputs": [
        {
          "name": "stdout",
          "output_type": "stream",
          "text": [
            "Route for the tour:  [0, 35, 34, 32, 31, 30, 33, 7, 8, 2, 6, 5, 24, 10, 11, 22, 21, 23, 9, 12, 13, 14, 15, 17, 18, 16, 3, 4, 37, 38, 39, 1, 41, 28, 19, 20, 27, 26, 25, 29, 36, 40]\n",
            "Minimum tour length:  1230\n",
            "Execution Time:  0.7647802829742432s\n"
          ]
        }
      ],
      "source": [
        "networkx_solver(data_xl, graph_xl, 'GREEDY_DESCENT')"
      ]
    },
    {
      "cell_type": "code",
      "execution_count": null,
      "metadata": {
        "colab": {
          "base_uri": "https://localhost:8080/"
        },
        "id": "5gHnzZIsP_Zh",
        "outputId": "8e586ab1-9e7d-419a-8fc3-0c7ea798af60"
      },
      "outputs": [
        {
          "name": "stdout",
          "output_type": "stream",
          "text": [
            "Route for the tour:  [0, 3, 4, 1, 2]\n",
            "Minimum tour length:  19.0\n",
            "Execution Time:  3.7919363975524902s\n"
          ]
        }
      ],
      "source": [
        "networkx_solver(data_s, graph_s, 'SIMULATED_ANNEALING')"
      ]
    },
    {
      "cell_type": "code",
      "execution_count": null,
      "metadata": {
        "colab": {
          "base_uri": "https://localhost:8080/"
        },
        "id": "U05U_fbPQG-Y",
        "outputId": "20470a20-6a42-4afc-c2a7-4e446a0fbdc4"
      },
      "outputs": [
        {
          "name": "stdout",
          "output_type": "stream",
          "text": [
            "Route for the tour:  [0, 9, 13, 1, 7, 14, 12, 2, 10, 3, 5, 4, 11, 6, 8]\n",
            "Minimum tour length:  635\n",
            "Execution Time:  118.62349820137024s\n"
          ]
        }
      ],
      "source": [
        "networkx_solver(data_m, graph_m, 'SIMULATED_ANNEALING')"
      ]
    },
    {
      "attachments": {},
      "cell_type": "markdown",
      "metadata": {
        "id": "-k2JAHHj3mZU"
      },
      "source": [
        "#### Google OR-Tools"
      ]
    },
    {
      "cell_type": "code",
      "execution_count": null,
      "metadata": {
        "id": "v4VqWiz459sO"
      },
      "outputs": [],
      "source": [
        "def data_to_list(dataset):\n",
        "  \"\"\"Stores the data for the problem.\"\"\"\n",
        "  data = {}\n",
        "  data['distance_matrix'] = dataset.values.tolist()\n",
        "  data['num_vehicles'] = 1\n",
        "  data['depot'] = 0\n",
        "  return data"
      ]
    },
    {
      "cell_type": "code",
      "execution_count": null,
      "metadata": {
        "id": "Car9Z_uw7CMT"
      },
      "outputs": [],
      "source": [
        "def print_solution(manager, routing, solution):\n",
        "    \"\"\"Prints solution on console.\"\"\"\n",
        "    print('The minimal tour has length: {}'.format(solution.ObjectiveValue()))\n",
        "    index = routing.Start(0)\n",
        "    plan_output = 'The Minimal Tour:\\n'\n",
        "    route_distance = 0\n",
        "    while not routing.IsEnd(index):\n",
        "        plan_output += ' {} ->'.format(manager.IndexToNode(index))\n",
        "        previous_index = index\n",
        "        index = solution.Value(routing.NextVar(index))\n",
        "        route_distance += routing.GetArcCostForVehicle(previous_index, index, 0)\n",
        "    plan_output += ' {}\\n'.format(manager.IndexToNode(index))\n",
        "    print(plan_output)\n",
        "    plan_output += 'The Minimal Tour Length: {}'.format(route_distance)"
      ]
    },
    {
      "cell_type": "code",
      "execution_count": null,
      "metadata": {
        "id": "zl9vLy516CxL"
      },
      "outputs": [],
      "source": [
        "def or_tool_solver(dataset, strategy, time_limit):\n",
        "  # Convert pandas dataframe to list.\n",
        "  data = data_to_list(dataset)\n",
        "\n",
        "  start = time.time()\n",
        "\n",
        "  # Create the routing index manager.\n",
        "  manager = pywrapcp.RoutingIndexManager(len(data['distance_matrix']), data['num_vehicles'], data['depot'])\n",
        "\n",
        "  # Create Routing Model.\n",
        "  routing = pywrapcp.RoutingModel(manager)\n",
        "\n",
        "  def distance_callback(from_index, to_index):\n",
        "    \"\"\"Returns the distance between the two nodes.\"\"\"\n",
        "    # Convert from routing variable Index to distance matrix NodeIndex.\n",
        "    from_node = manager.IndexToNode(from_index)\n",
        "    to_node = manager.IndexToNode(to_index)\n",
        "    return data['distance_matrix'][from_node][to_node]\n",
        "\n",
        "  transit_callback_index = routing.RegisterTransitCallback(distance_callback)\n",
        "\n",
        "  # Define cost of each arc.\n",
        "  routing.SetArcCostEvaluatorOfAllVehicles(transit_callback_index)\n",
        "\n",
        "  # Setting the local search options.\n",
        "  search_parameters = pywrapcp.DefaultRoutingSearchParameters()\n",
        "\n",
        "  #Choosing strategy\n",
        "  if(strategy == 'GUIDED_LOCAL_SEARCH'):\n",
        "    search_parameters.local_search_metaheuristic = (routing_enums_pb2.LocalSearchMetaheuristic.GUIDED_LOCAL_SEARCH)\n",
        "  elif(strategy == 'GREEDY_DESCENT'):\n",
        "    search_parameters.local_search_metaheuristic = (routing_enums_pb2.LocalSearchMetaheuristic.GREEDY_DESCENT)\n",
        "  elif(strategy == 'TABU_SEARCH'):\n",
        "    search_parameters.local_search_metaheuristic = (routing_enums_pb2.LocalSearchMetaheuristic.TABU_SEARCH)\n",
        "  elif(strategy == 'SIMULATED_ANNEALING'):\n",
        "    search_parameters.local_search_metaheuristic = (routing_enums_pb2.LocalSearchMetaheuristic.SIMULATED_ANNEALING)\n",
        "\n",
        "  search_parameters.time_limit.seconds = time_limit\n",
        "  search_parameters.log_search = True\n",
        "\n",
        "  # Solve the problem.\n",
        "  solution = routing.SolveWithParameters(search_parameters)\n",
        "\n",
        "  end = time.time()\n",
        "\n",
        "  print_solution(manager, routing, solution)"
      ]
    },
    {
      "cell_type": "code",
      "execution_count": null,
      "metadata": {
        "colab": {
          "base_uri": "https://localhost:8080/"
        },
        "id": "vyotpfQUIWcf",
        "outputId": "e115ff4f-307c-45c9-a31d-2102b5315fb3"
      },
      "outputs": [
        {
          "name": "stdout",
          "output_type": "stream",
          "text": [
            "The minimal tour has length: 19\n",
            "The Minimal Tour:\n",
            " 0 -> 3 -> 4 -> 1 -> 2 -> 0\n",
            "\n"
          ]
        }
      ],
      "source": [
        "or_tool_solver(data_s, 'GREEDY_DESCENT', 1)"
      ]
    },
    {
      "cell_type": "code",
      "execution_count": null,
      "metadata": {
        "colab": {
          "base_uri": "https://localhost:8080/"
        },
        "id": "-TQMZsuuIfrC",
        "outputId": "a8ab031a-b777-4e22-e0ef-96caae537d68"
      },
      "outputs": [
        {
          "name": "stdout",
          "output_type": "stream",
          "text": [
            "The minimal tour has length: 291\n",
            "The Minimal Tour:\n",
            " 0 -> 12 -> 1 -> 14 -> 8 -> 4 -> 6 -> 2 -> 11 -> 13 -> 9 -> 7 -> 5 -> 3 -> 10 -> 0\n",
            "\n"
          ]
        }
      ],
      "source": [
        "or_tool_solver(data_m, 'GREEDY_DESCENT', 1)"
      ]
    },
    {
      "cell_type": "code",
      "execution_count": null,
      "metadata": {
        "colab": {
          "base_uri": "https://localhost:8080/"
        },
        "id": "hSudsFM8IhWz",
        "outputId": "1a3c7c74-45b1-4f0b-9ee9-5ef02a51abc6"
      },
      "outputs": [
        {
          "name": "stdout",
          "output_type": "stream",
          "text": [
            "The minimal tour has length: 953\n",
            "The Minimal Tour:\n",
            " 0 -> 14 -> 13 -> 9 -> 10 -> 12 -> 11 -> 24 -> 23 -> 22 -> 25 -> 21 -> 20 -> 16 -> 17 -> 19 -> 18 -> 15 -> 8 -> 7 -> 6 -> 4 -> 5 -> 3 -> 2 -> 1 -> 0\n",
            "\n"
          ]
        }
      ],
      "source": [
        "or_tool_solver(data_l, 'GREEDY_DESCENT', 1)"
      ]
    },
    {
      "cell_type": "code",
      "execution_count": null,
      "metadata": {
        "colab": {
          "base_uri": "https://localhost:8080/"
        },
        "id": "MhmqzmatIjB4",
        "outputId": "969110ea-552a-465e-c7b8-cecdb312e60d"
      },
      "outputs": [
        {
          "name": "stdout",
          "output_type": "stream",
          "text": [
            "The minimal tour has length: 738\n",
            "The Minimal Tour:\n",
            " 0 -> 1 -> 39 -> 38 -> 37 -> 4 -> 6 -> 5 -> 33 -> 34 -> 36 -> 35 -> 32 -> 31 -> 30 -> 29 -> 28 -> 27 -> 20 -> 21 -> 22 -> 16 -> 19 -> 18 -> 17 -> 15 -> 14 -> 13 -> 12 -> 11 -> 10 -> 23 -> 26 -> 25 -> 24 -> 9 -> 8 -> 7 -> 2 -> 3 -> 40 -> 41 -> 0\n",
            "\n"
          ]
        }
      ],
      "source": [
        "or_tool_solver(data_xl, 'GREEDY_DESCENT', 1)"
      ]
    },
    {
      "cell_type": "code",
      "execution_count": null,
      "metadata": {
        "colab": {
          "base_uri": "https://localhost:8080/"
        },
        "id": "inlT_67YIlnb",
        "outputId": "0a405279-c2d1-4030-b783-4ff18450856a"
      },
      "outputs": [
        {
          "name": "stdout",
          "output_type": "stream",
          "text": [
            "The minimal tour has length: 19\n",
            "The Minimal Tour:\n",
            " 0 -> 3 -> 4 -> 1 -> 2 -> 0\n",
            "\n"
          ]
        }
      ],
      "source": [
        "or_tool_solver(data_s, 'SIMULATED_ANNEALING', 1)"
      ]
    },
    {
      "cell_type": "code",
      "execution_count": null,
      "metadata": {
        "colab": {
          "base_uri": "https://localhost:8080/"
        },
        "id": "KWu1AlsyIsGY",
        "outputId": "1e23a23f-97a3-43ad-b705-de336559a5fa"
      },
      "outputs": [
        {
          "name": "stdout",
          "output_type": "stream",
          "text": [
            "The minimal tour has length: 291\n",
            "The Minimal Tour:\n",
            " 0 -> 12 -> 1 -> 14 -> 8 -> 4 -> 6 -> 2 -> 11 -> 13 -> 9 -> 7 -> 5 -> 3 -> 10 -> 0\n",
            "\n"
          ]
        }
      ],
      "source": [
        "or_tool_solver(data_m, 'SIMULATED_ANNEALING', 1)"
      ]
    },
    {
      "cell_type": "code",
      "execution_count": null,
      "metadata": {
        "colab": {
          "base_uri": "https://localhost:8080/"
        },
        "id": "_vfV4wkcIucX",
        "outputId": "ae1de088-d373-44ce-c859-56776bf7b8db"
      },
      "outputs": [
        {
          "name": "stdout",
          "output_type": "stream",
          "text": [
            "The minimal tour has length: 937\n",
            "The Minimal Tour:\n",
            " 0 -> 24 -> 23 -> 22 -> 25 -> 21 -> 20 -> 16 -> 17 -> 19 -> 18 -> 15 -> 10 -> 11 -> 12 -> 14 -> 13 -> 9 -> 8 -> 7 -> 6 -> 4 -> 5 -> 3 -> 2 -> 1 -> 0\n",
            "\n"
          ]
        }
      ],
      "source": [
        "or_tool_solver(data_l, 'SIMULATED_ANNEALING', 1)"
      ]
    },
    {
      "cell_type": "code",
      "execution_count": null,
      "metadata": {
        "colab": {
          "base_uri": "https://localhost:8080/"
        },
        "id": "gxJEWrakIvX9",
        "outputId": "97af9c3a-05a3-47cf-a7fc-bae253a0ddac"
      },
      "outputs": [
        {
          "name": "stdout",
          "output_type": "stream",
          "text": [
            "The minimal tour has length: 737\n",
            "The Minimal Tour:\n",
            " 0 -> 1 -> 41 -> 40 -> 39 -> 38 -> 37 -> 4 -> 6 -> 5 -> 33 -> 34 -> 36 -> 35 -> 32 -> 31 -> 30 -> 29 -> 28 -> 27 -> 20 -> 21 -> 22 -> 16 -> 19 -> 18 -> 17 -> 15 -> 14 -> 13 -> 12 -> 11 -> 10 -> 23 -> 26 -> 25 -> 24 -> 9 -> 8 -> 7 -> 2 -> 3 -> 0\n",
            "\n"
          ]
        }
      ],
      "source": [
        "or_tool_solver(data_xl, 'SIMULATED_ANNEALING', 1)"
      ]
    },
    {
      "cell_type": "code",
      "execution_count": null,
      "metadata": {
        "colab": {
          "base_uri": "https://localhost:8080/"
        },
        "id": "KYmEFmHeLI5n",
        "outputId": "3ef4a8ac-4732-4835-d172-1bb3422e32a6"
      },
      "outputs": [
        {
          "name": "stdout",
          "output_type": "stream",
          "text": [
            "The minimal tour has length: 19\n",
            "The Minimal Tour:\n",
            " 0 -> 3 -> 4 -> 1 -> 2 -> 0\n",
            "\n"
          ]
        }
      ],
      "source": [
        "or_tool_solver(data_s, 'GUIDED_LOCAL_SEARCH', 1)"
      ]
    },
    {
      "cell_type": "code",
      "execution_count": null,
      "metadata": {
        "colab": {
          "base_uri": "https://localhost:8080/"
        },
        "id": "EngIBxV6ICa8",
        "outputId": "59a7ab3e-01ac-475f-dc22-de535a4ef23f"
      },
      "outputs": [
        {
          "name": "stdout",
          "output_type": "stream",
          "text": [
            "The minimal tour has length: 291\n",
            "The Minimal Tour:\n",
            " 0 -> 12 -> 1 -> 14 -> 8 -> 4 -> 6 -> 2 -> 11 -> 13 -> 9 -> 7 -> 5 -> 3 -> 10 -> 0\n",
            "\n"
          ]
        }
      ],
      "source": [
        "or_tool_solver(data_m, 'GUIDED_LOCAL_SEARCH', 1)"
      ]
    },
    {
      "cell_type": "code",
      "execution_count": null,
      "metadata": {
        "colab": {
          "base_uri": "https://localhost:8080/"
        },
        "id": "D1e5AcEPIHAG",
        "outputId": "92e97b71-825a-4364-f6c2-c0342b0411cd"
      },
      "outputs": [
        {
          "name": "stdout",
          "output_type": "stream",
          "text": [
            "The minimal tour has length: 937\n",
            "The Minimal Tour:\n",
            " 0 -> 1 -> 2 -> 3 -> 5 -> 4 -> 6 -> 7 -> 8 -> 9 -> 13 -> 14 -> 11 -> 12 -> 10 -> 15 -> 18 -> 19 -> 17 -> 16 -> 20 -> 21 -> 25 -> 22 -> 23 -> 24 -> 0\n",
            "\n"
          ]
        }
      ],
      "source": [
        "or_tool_solver(data_l, 'GUIDED_LOCAL_SEARCH', 1)"
      ]
    },
    {
      "cell_type": "code",
      "execution_count": null,
      "metadata": {
        "colab": {
          "base_uri": "https://localhost:8080/"
        },
        "id": "UfgTZWJzIJTw",
        "outputId": "bcd99769-846b-48b7-e515-5379f1e5f626"
      },
      "outputs": [
        {
          "name": "stdout",
          "output_type": "stream",
          "text": [
            "The minimal tour has length: 704\n",
            "The Minimal Tour:\n",
            " 0 -> 41 -> 40 -> 39 -> 38 -> 37 -> 36 -> 35 -> 34 -> 33 -> 32 -> 31 -> 30 -> 29 -> 28 -> 27 -> 20 -> 19 -> 18 -> 17 -> 15 -> 14 -> 13 -> 12 -> 16 -> 21 -> 22 -> 11 -> 10 -> 23 -> 26 -> 25 -> 24 -> 9 -> 8 -> 7 -> 6 -> 5 -> 4 -> 3 -> 2 -> 1 -> 0\n",
            "\n"
          ]
        }
      ],
      "source": [
        "or_tool_solver(data_xl, 'GUIDED_LOCAL_SEARCH', 6)"
      ]
    },
    {
      "cell_type": "code",
      "execution_count": null,
      "metadata": {
        "colab": {
          "base_uri": "https://localhost:8080/"
        },
        "id": "i34kEF66I1Nt",
        "outputId": "7be6ef48-ce46-4402-9dc8-98d5c4f46514"
      },
      "outputs": [
        {
          "name": "stdout",
          "output_type": "stream",
          "text": [
            "The minimal tour has length: 19\n",
            "The Minimal Tour:\n",
            " 0 -> 3 -> 4 -> 1 -> 2 -> 0\n",
            "\n"
          ]
        }
      ],
      "source": [
        "or_tool_solver(data_s, 'TABU_SEARCH', 1)"
      ]
    },
    {
      "cell_type": "code",
      "execution_count": null,
      "metadata": {
        "colab": {
          "base_uri": "https://localhost:8080/"
        },
        "id": "mVqMb8FnI4D7",
        "outputId": "4fdc507c-52d3-45c7-ac6c-5a7461f4fce4"
      },
      "outputs": [
        {
          "name": "stdout",
          "output_type": "stream",
          "text": [
            "The minimal tour has length: 291\n",
            "The Minimal Tour:\n",
            " 0 -> 12 -> 1 -> 14 -> 8 -> 4 -> 6 -> 2 -> 11 -> 13 -> 9 -> 7 -> 5 -> 3 -> 10 -> 0\n",
            "\n"
          ]
        }
      ],
      "source": [
        "or_tool_solver(data_m, 'TABU_SEARCH', 1)"
      ]
    },
    {
      "cell_type": "code",
      "execution_count": null,
      "metadata": {
        "colab": {
          "base_uri": "https://localhost:8080/"
        },
        "id": "WAfCKZY4I5pp",
        "outputId": "593880b3-6a89-4154-f861-f6be0d9d4b7d"
      },
      "outputs": [
        {
          "name": "stdout",
          "output_type": "stream",
          "text": [
            "The minimal tour has length: 937\n",
            "The Minimal Tour:\n",
            " 0 -> 24 -> 23 -> 22 -> 25 -> 21 -> 20 -> 16 -> 17 -> 19 -> 18 -> 15 -> 10 -> 11 -> 12 -> 14 -> 13 -> 9 -> 8 -> 7 -> 6 -> 4 -> 5 -> 3 -> 2 -> 1 -> 0\n",
            "\n"
          ]
        }
      ],
      "source": [
        "or_tool_solver(data_l, 'TABU_SEARCH', 1)"
      ]
    },
    {
      "cell_type": "code",
      "execution_count": null,
      "metadata": {
        "colab": {
          "base_uri": "https://localhost:8080/"
        },
        "id": "jf30KqAyI6w6",
        "outputId": "3c134972-e6e0-4d40-f445-6f39159a4df6"
      },
      "outputs": [
        {
          "name": "stdout",
          "output_type": "stream",
          "text": [
            "The minimal tour has length: 699\n",
            "The Minimal Tour:\n",
            " 0 -> 1 -> 2 -> 3 -> 4 -> 5 -> 6 -> 7 -> 8 -> 9 -> 10 -> 11 -> 12 -> 13 -> 14 -> 15 -> 16 -> 17 -> 18 -> 19 -> 20 -> 21 -> 22 -> 23 -> 24 -> 25 -> 26 -> 27 -> 28 -> 29 -> 30 -> 31 -> 32 -> 33 -> 34 -> 35 -> 36 -> 37 -> 38 -> 39 -> 40 -> 41 -> 0\n",
            "\n"
          ]
        }
      ],
      "source": [
        "or_tool_solver(data_xl, 'TABU_SEARCH', 1)"
      ]
    },
    {
      "attachments": {},
      "cell_type": "markdown",
      "metadata": {
        "id": "FKbGkJWyr4Rc"
      },
      "source": [
        "# Quantum Computation: Azure"
      ]
    },
    {
      "cell_type": "code",
      "execution_count": null,
      "metadata": {
        "colab": {
          "base_uri": "https://localhost:8080/"
        },
        "id": "FZ7kWpQJ16Om",
        "outputId": "491e612f-106a-4491-d547-ff2a6ec86885"
      },
      "outputs": [
        {
          "name": "stdout",
          "output_type": "stream",
          "text": [
            "Looking in indexes: https://pypi.org/simple, https://us-python.pkg.dev/colab-wheels/public/simple/\n",
            "Collecting azure-quantum\n",
            "  Downloading azure_quantum-0.27.238334-py3-none-any.whl (169 kB)\n",
            "\u001b[K     |████████████████████████████████| 169 kB 27.6 MB/s \n",
            "\u001b[?25hCollecting azure-identity>=1.6.0\n",
            "  Downloading azure_identity-1.12.0-py3-none-any.whl (135 kB)\n",
            "\u001b[K     |████████████████████████████████| 135 kB 75.4 MB/s \n",
            "\u001b[?25hCollecting azure-storage-blob>=12.13.0\n",
            "  Downloading azure_storage_blob-12.14.1-py3-none-any.whl (383 kB)\n",
            "\u001b[K     |████████████████████████████████| 383 kB 74.1 MB/s \n",
            "\u001b[?25hCollecting deprecated>=1.2.12\n",
            "  Downloading Deprecated-1.2.13-py2.py3-none-any.whl (9.6 kB)\n",
            "Requirement already satisfied: aiohttp>=3.7.0 in /usr/local/lib/python3.7/dist-packages (from azure-quantum) (3.8.3)\n",
            "Requirement already satisfied: numpy>=1.21.0 in /usr/local/lib/python3.7/dist-packages (from azure-quantum) (1.21.6)\n",
            "Requirement already satisfied: protobuf<4.0,>=3.14.0 in /usr/local/lib/python3.7/dist-packages (from azure-quantum) (3.19.6)\n",
            "Collecting azure-core>=1.25.0\n",
            "  Downloading azure_core-1.26.1-py3-none-any.whl (172 kB)\n",
            "\u001b[K     |████████████████████████████████| 172 kB 90.3 MB/s \n",
            "\u001b[?25hCollecting aiofile>=3.7.2\n",
            "  Downloading aiofile-3.8.1.tar.gz (18 kB)\n",
            "Collecting msrest>=0.6.21\n",
            "  Downloading msrest-0.7.1-py3-none-any.whl (85 kB)\n",
            "\u001b[K     |████████████████████████████████| 85 kB 4.5 MB/s \n",
            "\u001b[?25hCollecting caio~=0.9.0\n",
            "  Downloading caio-0.9.11-cp37-cp37m-manylinux_2_12_x86_64.manylinux2010_x86_64.manylinux_2_17_x86_64.manylinux2014_x86_64.whl (77 kB)\n",
            "\u001b[K     |████████████████████████████████| 77 kB 6.0 MB/s \n",
            "\u001b[?25hRequirement already satisfied: multidict<7.0,>=4.5 in /usr/local/lib/python3.7/dist-packages (from aiohttp>=3.7.0->azure-quantum) (6.0.2)\n",
            "Requirement already satisfied: typing-extensions>=3.7.4 in /usr/local/lib/python3.7/dist-packages (from aiohttp>=3.7.0->azure-quantum) (4.1.1)\n",
            "Requirement already satisfied: aiosignal>=1.1.2 in /usr/local/lib/python3.7/dist-packages (from aiohttp>=3.7.0->azure-quantum) (1.3.1)\n",
            "Requirement already satisfied: attrs>=17.3.0 in /usr/local/lib/python3.7/dist-packages (from aiohttp>=3.7.0->azure-quantum) (22.1.0)\n",
            "Requirement already satisfied: frozenlist>=1.1.1 in /usr/local/lib/python3.7/dist-packages (from aiohttp>=3.7.0->azure-quantum) (1.3.3)\n",
            "Requirement already satisfied: async-timeout<5.0,>=4.0.0a3 in /usr/local/lib/python3.7/dist-packages (from aiohttp>=3.7.0->azure-quantum) (4.0.2)\n",
            "Requirement already satisfied: yarl<2.0,>=1.0 in /usr/local/lib/python3.7/dist-packages (from aiohttp>=3.7.0->azure-quantum) (1.8.1)\n",
            "Requirement already satisfied: charset-normalizer<3.0,>=2.0 in /usr/local/lib/python3.7/dist-packages (from aiohttp>=3.7.0->azure-quantum) (2.1.1)\n",
            "Requirement already satisfied: asynctest==0.13.0 in /usr/local/lib/python3.7/dist-packages (from aiohttp>=3.7.0->azure-quantum) (0.13.0)\n",
            "Requirement already satisfied: requests>=2.18.4 in /usr/local/lib/python3.7/dist-packages (from azure-core>=1.25.0->azure-quantum) (2.23.0)\n",
            "Requirement already satisfied: six>=1.11.0 in /usr/local/lib/python3.7/dist-packages (from azure-core>=1.25.0->azure-quantum) (1.15.0)\n",
            "Collecting msal-extensions<2.0.0,>=0.3.0\n",
            "  Downloading msal_extensions-1.0.0-py2.py3-none-any.whl (19 kB)\n",
            "Collecting msal<2.0.0,>=1.12.0\n",
            "  Downloading msal-1.20.0-py2.py3-none-any.whl (90 kB)\n",
            "\u001b[K     |████████████████████████████████| 90 kB 8.9 MB/s \n",
            "\u001b[?25hCollecting cryptography>=2.5\n",
            "  Downloading cryptography-38.0.3-cp36-abi3-manylinux_2_24_x86_64.whl (4.1 MB)\n",
            "\u001b[K     |████████████████████████████████| 4.1 MB 60.0 MB/s \n",
            "\u001b[?25hRequirement already satisfied: cffi>=1.12 in /usr/local/lib/python3.7/dist-packages (from cryptography>=2.5->azure-identity>=1.6.0->azure-quantum) (1.15.1)\n",
            "Requirement already satisfied: pycparser in /usr/local/lib/python3.7/dist-packages (from cffi>=1.12->cryptography>=2.5->azure-identity>=1.6.0->azure-quantum) (2.21)\n",
            "Requirement already satisfied: wrapt<2,>=1.10 in /usr/local/lib/python3.7/dist-packages (from deprecated>=1.2.12->azure-quantum) (1.14.1)\n",
            "Collecting PyJWT[crypto]<3,>=1.0.0\n",
            "  Downloading PyJWT-2.6.0-py3-none-any.whl (20 kB)\n",
            "Collecting portalocker<3,>=1.0\n",
            "  Downloading portalocker-2.6.0-py2.py3-none-any.whl (15 kB)\n",
            "Collecting isodate>=0.6.0\n",
            "  Downloading isodate-0.6.1-py2.py3-none-any.whl (41 kB)\n",
            "\u001b[K     |████████████████████████████████| 41 kB 654 kB/s \n",
            "\u001b[?25hRequirement already satisfied: requests-oauthlib>=0.5.0 in /usr/local/lib/python3.7/dist-packages (from msrest>=0.6.21->azure-quantum) (1.3.1)\n",
            "Requirement already satisfied: certifi>=2017.4.17 in /usr/local/lib/python3.7/dist-packages (from msrest>=0.6.21->azure-quantum) (2022.9.24)\n",
            "Requirement already satisfied: chardet<4,>=3.0.2 in /usr/local/lib/python3.7/dist-packages (from requests>=2.18.4->azure-core>=1.25.0->azure-quantum) (3.0.4)\n",
            "Requirement already satisfied: idna<3,>=2.5 in /usr/local/lib/python3.7/dist-packages (from requests>=2.18.4->azure-core>=1.25.0->azure-quantum) (2.10)\n",
            "Requirement already satisfied: urllib3!=1.25.0,!=1.25.1,<1.26,>=1.21.1 in /usr/local/lib/python3.7/dist-packages (from requests>=2.18.4->azure-core>=1.25.0->azure-quantum) (1.24.3)\n",
            "Requirement already satisfied: oauthlib>=3.0.0 in /usr/local/lib/python3.7/dist-packages (from requests-oauthlib>=0.5.0->msrest>=0.6.21->azure-quantum) (3.2.2)\n",
            "Building wheels for collected packages: aiofile\n",
            "  Building wheel for aiofile (setup.py) ... \u001b[?25l\u001b[?25hdone\n",
            "  Created wheel for aiofile: filename=aiofile-3.8.1-py3-none-any.whl size=19448 sha256=e04fc9fa041df6114581970d82bbfe230e0e079a448f7bfa2c793f6833dda5ef\n",
            "  Stored in directory: /root/.cache/pip/wheels/ff/2e/eb/8a071ffd66fead648f4da7c14d7d6e231fc22e214cce2250c5\n",
            "Successfully built aiofile\n",
            "Installing collected packages: PyJWT, cryptography, portalocker, msal, isodate, azure-core, msrest, msal-extensions, caio, deprecated, azure-storage-blob, azure-identity, aiofile, azure-quantum\n",
            "Successfully installed PyJWT-2.6.0 aiofile-3.8.1 azure-core-1.26.1 azure-identity-1.12.0 azure-quantum-0.27.238334 azure-storage-blob-12.14.1 caio-0.9.11 cryptography-38.0.3 deprecated-1.2.13 isodate-0.6.1 msal-1.20.0 msal-extensions-1.0.0 msrest-0.7.1 portalocker-2.6.0\n"
          ]
        }
      ],
      "source": [
        "!pip install azure-quantum"
      ]
    },
    {
      "cell_type": "code",
      "execution_count": null,
      "metadata": {
        "id": "fSqQCdaXywY1"
      },
      "outputs": [],
      "source": [
        "# Import dependencies\n",
        "import numpy as np\n",
        "import pandas as pd\n",
        "import os\n",
        "import time\n",
        "import math\n",
        "import requests\n",
        "import json\n",
        "import datetime  \n",
        "\n",
        "from azure.quantum.optimization import Problem, ProblemType, Term, Solver\n",
        "from azure.quantum.optimization import SimulatedAnnealing, ParallelTempering, Tabu, QuantumMonteCarlo\n",
        "from typing import List"
      ]
    },
    {
      "cell_type": "code",
      "execution_count": null,
      "metadata": {
        "id": "o145FKuPy5D6"
      },
      "outputs": [],
      "source": [
        "from azure.quantum import Workspace\n",
        "workspace = Workspace (\n",
        "    subscription_id = \"06b25d3e-2cea-426a-b980-e7c2e02df6fa\",\n",
        "    resource_group = \"azurequantum\",\n",
        "    name = \"ecse420-project-tsp\",\n",
        "    location = \"eastus\"\n",
        ")"
      ]
    },
    {
      "cell_type": "code",
      "execution_count": null,
      "metadata": {
        "id": "W7eSb4Wvy7jY"
      },
      "outputs": [],
      "source": [
        "# Uncomment each of the datasets that you want to use\n",
        "\n",
        "data_small = pd.read_csv('https://people.sc.fsu.edu/~jburkardt/datasets/tsp/five_d.txt', sep='\\s+', header=None)\n",
        "CostMatrix = data_small.to_numpy()\n",
        "NumNodes = 5\n",
        "maxCost = 10\n",
        "\n",
        "#dataset_medium = pd.read_csv('https://people.sc.fsu.edu/~jburkardt/datasets/tsp/p01_d.txt', sep='\\s+', header=None)\n",
        "#CostMatrix = dataset_medium.to_numpy()\n",
        "#NumNodes = 15\n",
        "#maxCost = 82\n",
        "\n",
        "#dataset_large = pd.read_csv('https://people.sc.fsu.edu/~jburkardt/datasets/tsp/fri26_d.txt', sep='\\s+', header=None)\n",
        "#CostMatrix = dataset_large.to_numpy()\n",
        "#NumNodes = 26\n",
        "#maxCost = 280\n",
        "\n",
        "#dataset_xlarge = pd.read_csv('https://people.sc.fsu.edu/~jburkardt/datasets/tsp/dantzig42_d.txt', sep='\\s+', header=None)\n",
        "#CostMatrix = dataset_xlarge.to_numpy()\n",
        "#NumNodes = 42\n",
        "#maxCost = 192"
      ]
    },
    {
      "cell_type": "code",
      "execution_count": null,
      "metadata": {
        "id": "SV9VzbjHzANN"
      },
      "outputs": [],
      "source": [
        "# Node names, to interpret the solution later on\n",
        "NodeName = {0:'A', 1:'B', 2:'C', 3:'D', 4:'E', 5:'F', 6:'G', 7:'H', 8:'I', 9:'J', 10:'K', \n",
        "            11:'L', 12:'M', 13:'N', 14:'O', 15:'P', 16:'Q', 17:'R', 18:'S', 19:'T',\n",
        "            20:'U', 21:'V', 22:'W', 23:'X', 24:'Y', 25:'Z', 26:'26',27:'27', 28:'28', 29:'29', 30:'30',\n",
        "            31:'31', 32:'32', 33:'33', 34:'34', 35:'35', 36:'36', 37:'37', 38:'38', 39:'39', 40:'40', 41:'41'}\n",
        " \n",
        "##### Define the optimization problem for the Quantum Inspired Solver\n",
        "def OptProblem(CostMatrix) -> Problem:\n",
        "    \n",
        "    terms = []\n",
        "\n",
        "    ##### Cost of traveling between nodes  \n",
        "    for k in range(0, len(CostMatrix)):                          \n",
        "        for i in range(0, len(CostMatrix)):                     \n",
        "            for j in range(0, len(CostMatrix)):                 \n",
        "                \n",
        "                #Assign a weight to every possible trip from node i to node j for each trip \n",
        "                terms.append(\n",
        "                    Term(\n",
        "                        c = CostMatrix.item((i,j)),                               \n",
        "                        indices = [i + (len(CostMatrix) *k ), j + (len(CostMatrix) * (k + 1))]    # +1 to denote dependence on next location\n",
        "                    )\n",
        "                )\n",
        "    \n",
        "    ##### Constraint: Location constraint - salesperson can only be at 1 node at a time.\n",
        "    for l in range(0,len(CostMatrix)+1):                \n",
        "        for i in range(0,len(CostMatrix)):              # For each origin node\n",
        "            for j in range(0,len(CostMatrix)):          # For each destination node\n",
        "                if i!=j and i<j:                        \n",
        "                    terms.append(\n",
        "                        Term(\n",
        "                            c = int(2 * np.max(CostMatrix)),                             \n",
        "                            indices = [i + (len(CostMatrix) * l), j + (len(CostMatrix) * l)]                   \n",
        "                        )\n",
        "                    )\n",
        "                   \n",
        "    ##### Constraint: Location constraint - encourage the salesperson to be 'somewhere' otherwise all x_k might be 0 (for example).\n",
        "    for v in range(0, len(CostMatrix) + len(CostMatrix) * (len(CostMatrix))):  \n",
        "        terms.append(\n",
        "            Term(\n",
        "                c = int(-1.65 * np.max(CostMatrix)),          # Assign a weight penalty dependent on maximum distance from the cost matrix elements\n",
        "                indices = [v]   \n",
        "            )\n",
        "        )\n",
        "                              \n",
        "    ##### Penalty for traveling to the same node again --- (in the last step we can travel without penalties (this is to make it easier to specify an end node )\n",
        "    for p in range(0, len(CostMatrix) + len(CostMatrix) * (len(CostMatrix))):                                  \n",
        "        for f in range(p + len(CostMatrix), len(CostMatrix) * (len(CostMatrix)), len(CostMatrix)):              \n",
        "            terms.append(\n",
        "                Term(\n",
        "                    c = int(2 * np.max(CostMatrix)),                               # assign a weight penalty dependent on maximum distance from the cost matrix elements\n",
        "                    indices = [p,f]   \n",
        "                )\n",
        "            )     \n",
        "                               \n",
        "    ##### Begin at x0\n",
        "    terms.append(\n",
        "        Term(\n",
        "            c = int(-10 * np.max(CostMatrix)),                 # Assign a weight penalty dependent on maximum distance from the cost matrix elements\n",
        "            indices = [0]   \n",
        "        )\n",
        "    )\n",
        "                      \n",
        "    ##### End at x0\n",
        "    terms.append(\n",
        "        Term(\n",
        "            c = int(-10 * np.max(CostMatrix)),                   # Assign a weight penalty dependent on maximum distance from the cost matrix elements\n",
        "            indices = [len(CostMatrix) * (len(CostMatrix))]   \n",
        "        )    \n",
        "    )\n",
        "\n",
        "    return Problem(name=\"Traveling Salesperson\", problem_type=ProblemType.pubo, terms=terms)\n",
        "\n",
        "\n",
        "OptimizationProblem = OptProblem(CostMatrix)"
      ]
    },
    {
      "cell_type": "code",
      "execution_count": null,
      "metadata": {
        "id": "28qDNgxDOrI7"
      },
      "outputs": [],
      "source": [
        "##### Read the results returned by the solver - need to make the solution readable\n",
        "def ReadResults(Config: dict, NodeName, CostMatrix, NumNodes):  \n",
        "\n",
        "    ##### Read the return result (dictionary) from the solver and sort it\n",
        "    PathChoice = Config.items()\n",
        "    PathChoice = [(int(k), v) for k, v in Config.items()] \n",
        "    PathChoice.sort(key=lambda tup: tup[0]) \n",
        "\n",
        "    ##### Initialize variables to understand the routing    \n",
        "    TimeStep=[]                                                    \n",
        "    Node = []                                                       \n",
        "    Location = []                                                   \n",
        "    RouteMatrixElements = []                                      \n",
        "\n",
        "    ##### Go through nodes during each timestep/trip to see where the salesperson has been\n",
        "    for Index in PathChoice:\n",
        "        TimeStep.append(math.floor(Index[0] / len(CostMatrix)))        \n",
        "        Node.append(NodeName[(Index[0] % len(CostMatrix))])             \n",
        "        Location.append(Index[1])                               \n",
        "        if Index[1] == 1:                                            \n",
        "            RouteMatrixElements.append(Index[0] % len(CostMatrix))   \n",
        "    SimulationResult = np.array([TimeStep, Node, Location])             \n",
        " \n",
        "\n",
        "    ##### Create the route dictionary \n",
        "    k=0                                                                                                             \n",
        "    PathDict = {}                                                                                                                                              \n",
        "    PathDict['Route'] = {}\n",
        "    Path = np.array([['Timestep,', 'Node']])\n",
        "    for i in range(0, (NumNodes * (NumNodes + 1))):\n",
        "        if SimulationResult[2][i] == '1':                                                                      \n",
        "            Path = np.concatenate((Path, np.array([[SimulationResult[j][i] for j in range(0, 2)]])), axis=0)    \n",
        "            PathDict['Route'].update({k: Path[k + 1][1]})                                                       \n",
        "            k += 1                                                                                              \n",
        "    AnalyzeResult(Path, NumNodes)                                                                 \n",
        "\n",
        "\n",
        "    ###### Calculate the total cost of the route the salesperson made (can be in time (minutes) or in distance (km))\n",
        "    TotalRouteCost = 0\n",
        "    for trips in range(0, NumNodes):\n",
        "        TotalRouteCost = TotalRouteCost+float(CostMatrix.item(RouteMatrixElements[trips], RouteMatrixElements[trips + 1]))     \n",
        "    PathDict['RouteCost'] = {'Cost':TotalRouteCost}\n",
        "\n",
        "    ##### Return the simulation result in a human understandable way =)\n",
        "    return PathDict\n",
        "\n",
        "\n",
        "\n",
        "##### Check whether the solution satisfies the optimization constraints \n",
        "def AnalyzeResult(Path, NumNodes):\n",
        "                       \n",
        "    ##### Check if the number of travels is equal to the number of nodes + 1 (for returning home)\n",
        "    if (len(Path) - 1) != NumNodes + 1:\n",
        "        raise RuntimeError('This solution is not valid -- Number of nodes visited invalid!')\n",
        "    else:\n",
        "        NumNodesPassed = NumNodes\n",
        "        print(f\"Number of nodes passed = {NumNodesPassed}. This is valid!\")\n",
        "                      \n",
        "    ##### Check if the nodes are different (except start/end node)\n",
        "    PastNodes = []\n",
        "    for k in range(1, len(Path) - 1):                                                                         \n",
        "        for l in range(0, len(PastNodes)):  \n",
        "            if Path[k][1] == PastNodes[l]:\n",
        "                raise RuntimeError('This solution is not valid -- Traveled to a non-starting node more than once')\n",
        "        PastNodes.append(Path[k][1])\n",
        "    print(f\"Number of different nodes passed = {NumNodes}. This is valid!\") \n",
        "\n",
        "                   \n",
        "    ##### Check if the end node is same as the start node\n",
        "    if Path[1][1] != Path[-1][1]:\n",
        "        raise RuntimeError(f'This solution is not valid -- Start node {Path[1][1]} is not equal to end node {Path[-1][1]}')\n",
        "    print('Start and end node are the same. This is valid!')\n",
        "\n",
        "\n",
        "    print('Valid route!')"
      ]
    },
    {
      "cell_type": "code",
      "execution_count": null,
      "metadata": {
        "id": "PhPbfPdIOr0-"
      },
      "outputs": [],
      "source": [
        "# SimulatedAnnealing Solver with timeout = 120 seconds (Change the timeout value as you want)\n",
        "import time \n",
        "\n",
        "solver = SimulatedAnnealing(workspace, timeout=120) \n",
        "sum_execution_time_sa = 0.0\n",
        "sa_runs = []\n",
        "\n",
        "# Solving the problem to store the route\n",
        "route = solver.optimize(OptimizationProblem)                                 \n",
        "\n",
        "# The for loop is only for obtaining the average execution time\n",
        "for i in range(20):  \n",
        "    start = time.time()\n",
        "    route = solver.optimize(OptimizationProblem) \n",
        "    end = time.time() - start\n",
        "    try:\n",
        "        PathDict = ReadResults(route['configuration'], NodeName, CostMatrix, NumNodes)\n",
        "        print(PathDict)\n",
        "    except:\n",
        "        print(\"Not a valid response\")\n",
        "    sum_execution_time_sa += end\n",
        "    sa_runs.append(end)     \n",
        "\n",
        "avg_execution_time_sa = sum_execution_time_sa/20\n",
        "print(\"--- %s average execution time in seconds ---\" % (avg_execution_time_sa))\n",
        "print(*sa_runs, sep=' ')"
      ]
    },
    {
      "cell_type": "code",
      "execution_count": null,
      "metadata": {
        "id": "6qP9rR5gSKJr",
        "outputId": "12aa62d2-d671-4c15-9eff-b3f8026518ee"
      },
      "outputs": [
        {
          "name": "stdout",
          "output_type": "stream",
          "text": [
            "....{'version': '1.0', 'configuration': {'0': 1, '1': 0, '2': 0, '3': 0, '4': 0, '5': 0, '6': 0, '7': 0, '8': 1, '9': 0, '10': 0, '11': 0, '12': 0, '13': 0, '14': 1, '15': 0, '16': 1, '17': 0, '18': 0, '19': 0, '20': 0, '21': 0, '22': 1, '23': 0, '24': 0, '25': 1, '26': 0, '27': 0, '28': 0, '29': 0}, 'cost': -219.0, 'parameters': {'all_betas': {'segments': [{'type': 'constant', 'value': 0.002925}, {'type': 'constant', 'value': 0.028989}, {'type': 'constant', 'value': 0.287331}, {'type': 'constant', 'value': 2.847972}, {'type': 'constant', 'value': 0.002925}, {'type': 'constant', 'value': 0.006912}, {'type': 'constant', 'value': 0.016338}, {'type': 'constant', 'value': 0.038614}, {'type': 'constant', 'value': 0.091265}, {'type': 'constant', 'value': 0.215707}, {'type': 'constant', 'value': 0.509825}, {'type': 'constant', 'value': 1.204976}, {'type': 'constant', 'value': 2.847972}, {'type': 'constant', 'value': 0.002925}, {'type': 'constant', 'value': 0.004965}, {'type': 'constant', 'value': 0.00843}, {'type': 'constant', 'value': 0.014313}, {'type': 'constant', 'value': 0.0243}, {'type': 'constant', 'value': 0.041256}, {'type': 'constant', 'value': 0.070043}, {'type': 'constant', 'value': 0.118918}, {'type': 'constant', 'value': 0.201896}, {'type': 'constant', 'value': 0.342776}, {'type': 'constant', 'value': 0.581958}, {'type': 'constant', 'value': 0.988036}, {'type': 'constant', 'value': 1.677468}, {'type': 'constant', 'value': 2.847972}, {'type': 'constant', 'value': 0.002925}, {'type': 'constant', 'value': 0.004286}, {'type': 'constant', 'value': 0.006282}, {'type': 'constant', 'value': 0.009208}, {'type': 'constant', 'value': 0.013495}, {'type': 'constant', 'value': 0.019779}, {'type': 'constant', 'value': 0.028989}, {'type': 'constant', 'value': 0.042487}, {'type': 'constant', 'value': 0.06227}, {'type': 'constant', 'value': 0.091265}, {'type': 'constant', 'value': 0.133762}, {'type': 'constant', 'value': 0.196046}, {'type': 'constant', 'value': 0.287331}, {'type': 'constant', 'value': 0.421122}, {'type': 'constant', 'value': 0.617211}, {'type': 'constant', 'value': 0.904606}, {'type': 'constant', 'value': 1.32582}, {'type': 'constant', 'value': 1.943167}, {'type': 'constant', 'value': 2.847972}, {'type': 'constant', 'value': 0.002925}, {'type': 'constant', 'value': 0.003945}, {'type': 'constant', 'value': 0.00532}, {'type': 'constant', 'value': 0.007176}, {'type': 'constant', 'value': 0.009679}, {'type': 'constant', 'value': 0.013054}, {'type': 'constant', 'value': 0.017607}, {'type': 'constant', 'value': 0.023747}, {'type': 'constant', 'value': 0.032029}, {'type': 'constant', 'value': 0.043199}, {'type': 'constant', 'value': 0.058265}, {'type': 'constant', 'value': 0.078585}, {'type': 'constant', 'value': 0.105992}, {'type': 'constant', 'value': 0.142957}, {'type': 'constant', 'value': 0.192814}, {'type': 'constant', 'value': 0.260059}, {'type': 'constant', 'value': 0.350756}, {'type': 'constant', 'value': 0.473083}, {'type': 'constant', 'value': 0.638074}, {'type': 'constant', 'value': 0.860605}, {'type': 'constant', 'value': 1.160745}, {'type': 'constant', 'value': 1.56556}, {'type': 'constant', 'value': 2.111556}, {'type': 'constant', 'value': 2.847972}, {'type': 'constant', 'value': 0.002925}, {'type': 'constant', 'value': 0.003739}], 'type': 'segments'}, 'seed': 2265253302, 'sweeps': 10, 'timeout': 120.0}, 'solutions': [{'configuration': {'0': 1, '1': 0, '2': 0, '3': 0, '4': 0, '5': 0, '6': 0, '7': 0, '8': 1, '9': 0, '10': 0, '11': 0, '12': 0, '13': 0, '14': 1, '15': 0, '16': 1, '17': 0, '18': 0, '19': 0, '20': 0, '21': 0, '22': 1, '23': 0, '24': 0, '25': 1, '26': 0, '27': 0, '28': 0, '29': 0}, 'cost': -219.0}]}\n",
            "...Number of nodes passed = 5. This is valid!\n",
            "Number of different nodes passed = 5. This is valid!\n",
            "Start and end node are the same. This is valid!\n",
            "Valid route!\n",
            "{'Route': {0: 'A', 1: 'D', 2: 'E', 3: 'B', 4: 'C', 5: 'A'}, 'RouteCost': {'Cost': 19.0}}\n",
            "...Number of nodes passed = 5. This is valid!\n",
            "Number of different nodes passed = 5. This is valid!\n",
            "Start and end node are the same. This is valid!\n",
            "Valid route!\n",
            "{'Route': {0: 'A', 1: 'D', 2: 'E', 3: 'B', 4: 'C', 5: 'A'}, 'RouteCost': {'Cost': 19.0}}\n",
            "....Number of nodes passed = 5. This is valid!\n",
            "Number of different nodes passed = 5. This is valid!\n",
            "Start and end node are the same. This is valid!\n",
            "Valid route!\n",
            "{'Route': {0: 'A', 1: 'D', 2: 'E', 3: 'B', 4: 'C', 5: 'A'}, 'RouteCost': {'Cost': 19.0}}\n",
            "....Number of nodes passed = 5. This is valid!\n",
            "Number of different nodes passed = 5. This is valid!\n",
            "Start and end node are the same. This is valid!\n",
            "Valid route!\n",
            "{'Route': {0: 'A', 1: 'D', 2: 'E', 3: 'B', 4: 'C', 5: 'A'}, 'RouteCost': {'Cost': 19.0}}\n",
            "...Number of nodes passed = 5. This is valid!\n",
            "Number of different nodes passed = 5. This is valid!\n",
            "Start and end node are the same. This is valid!\n",
            "Valid route!\n",
            "{'Route': {0: 'A', 1: 'D', 2: 'E', 3: 'B', 4: 'C', 5: 'A'}, 'RouteCost': {'Cost': 19.0}}\n",
            "....Number of nodes passed = 5. This is valid!\n",
            "Number of different nodes passed = 5. This is valid!\n",
            "Start and end node are the same. This is valid!\n",
            "Valid route!\n",
            "{'Route': {0: 'A', 1: 'D', 2: 'E', 3: 'B', 4: 'C', 5: 'A'}, 'RouteCost': {'Cost': 19.0}}\n",
            "...Number of nodes passed = 5. This is valid!\n",
            "Number of different nodes passed = 5. This is valid!\n",
            "Start and end node are the same. This is valid!\n",
            "Valid route!\n",
            "{'Route': {0: 'A', 1: 'D', 2: 'E', 3: 'B', 4: 'C', 5: 'A'}, 'RouteCost': {'Cost': 19.0}}\n",
            "....Number of nodes passed = 5. This is valid!\n",
            "Number of different nodes passed = 5. This is valid!\n",
            "Start and end node are the same. This is valid!\n",
            "Valid route!\n",
            "{'Route': {0: 'A', 1: 'D', 2: 'E', 3: 'B', 4: 'C', 5: 'A'}, 'RouteCost': {'Cost': 19.0}}\n",
            "....Number of nodes passed = 5. This is valid!\n",
            "Number of different nodes passed = 5. This is valid!\n",
            "Start and end node are the same. This is valid!\n",
            "Valid route!\n",
            "{'Route': {0: 'A', 1: 'D', 2: 'E', 3: 'B', 4: 'C', 5: 'A'}, 'RouteCost': {'Cost': 19.0}}\n",
            "...Number of nodes passed = 5. This is valid!\n",
            "Number of different nodes passed = 5. This is valid!\n",
            "Start and end node are the same. This is valid!\n",
            "Valid route!\n",
            "{'Route': {0: 'A', 1: 'D', 2: 'E', 3: 'B', 4: 'C', 5: 'A'}, 'RouteCost': {'Cost': 19.0}}\n",
            "....Number of nodes passed = 5. This is valid!\n",
            "Number of different nodes passed = 5. This is valid!\n",
            "Start and end node are the same. This is valid!\n",
            "Valid route!\n",
            "{'Route': {0: 'A', 1: 'D', 2: 'E', 3: 'B', 4: 'C', 5: 'A'}, 'RouteCost': {'Cost': 19.0}}\n",
            "....Number of nodes passed = 5. This is valid!\n",
            "Number of different nodes passed = 5. This is valid!\n",
            "Start and end node are the same. This is valid!\n",
            "Valid route!\n",
            "{'Route': {0: 'A', 1: 'D', 2: 'E', 3: 'B', 4: 'C', 5: 'A'}, 'RouteCost': {'Cost': 19.0}}\n",
            "...Number of nodes passed = 5. This is valid!\n",
            "Number of different nodes passed = 5. This is valid!\n",
            "Start and end node are the same. This is valid!\n",
            "Valid route!\n",
            "{'Route': {0: 'A', 1: 'D', 2: 'E', 3: 'B', 4: 'C', 5: 'A'}, 'RouteCost': {'Cost': 19.0}}\n",
            "...Number of nodes passed = 5. This is valid!\n",
            "Number of different nodes passed = 5. This is valid!\n",
            "Start and end node are the same. This is valid!\n",
            "Valid route!\n",
            "{'Route': {0: 'A', 1: 'D', 2: 'E', 3: 'B', 4: 'C', 5: 'A'}, 'RouteCost': {'Cost': 19.0}}\n",
            "....Number of nodes passed = 5. This is valid!\n",
            "Number of different nodes passed = 5. This is valid!\n",
            "Start and end node are the same. This is valid!\n",
            "Valid route!\n",
            "{'Route': {0: 'A', 1: 'D', 2: 'E', 3: 'B', 4: 'C', 5: 'A'}, 'RouteCost': {'Cost': 19.0}}\n",
            "...Number of nodes passed = 5. This is valid!\n",
            "Number of different nodes passed = 5. This is valid!\n",
            "Start and end node are the same. This is valid!\n",
            "Valid route!\n",
            "{'Route': {0: 'A', 1: 'D', 2: 'E', 3: 'B', 4: 'C', 5: 'A'}, 'RouteCost': {'Cost': 19.0}}\n",
            "....Number of nodes passed = 5. This is valid!\n",
            "Number of different nodes passed = 5. This is valid!\n",
            "Start and end node are the same. This is valid!\n",
            "Valid route!\n",
            "{'Route': {0: 'A', 1: 'D', 2: 'E', 3: 'B', 4: 'C', 5: 'A'}, 'RouteCost': {'Cost': 19.0}}\n",
            "...Number of nodes passed = 5. This is valid!\n",
            "Number of different nodes passed = 5. This is valid!\n",
            "Start and end node are the same. This is valid!\n",
            "Valid route!\n",
            "{'Route': {0: 'A', 1: 'D', 2: 'E', 3: 'B', 4: 'C', 5: 'A'}, 'RouteCost': {'Cost': 19.0}}\n",
            "...Number of nodes passed = 5. This is valid!\n",
            "Number of different nodes passed = 5. This is valid!\n",
            "Start and end node are the same. This is valid!\n",
            "Valid route!\n",
            "{'Route': {0: 'A', 1: 'D', 2: 'E', 3: 'B', 4: 'C', 5: 'A'}, 'RouteCost': {'Cost': 19.0}}\n",
            "...Number of nodes passed = 5. This is valid!\n",
            "Number of different nodes passed = 5. This is valid!\n",
            "Start and end node are the same. This is valid!\n",
            "Valid route!\n",
            "{'Route': {0: 'A', 1: 'D', 2: 'E', 3: 'B', 4: 'C', 5: 'A'}, 'RouteCost': {'Cost': 19.0}}\n",
            "--- 2.918784165382385 average execution time in seconds ---\n",
            "2.2428927421569824 2.2359471321105957 2.88808536529541 3.066854953765869 7.4007251262664795 3.132765054702759 2.1919660568237305 2.9136037826538086 2.9176714420318604 2.3619344234466553 2.9597339630126953 2.9629647731781006 2.2954676151275635 2.451387405395508 2.9027252197265625 2.2065393924713135 2.8862929344177246 3.51840877532959 2.6396946907043457 2.2000224590301514\n"
          ]
        }
      ],
      "source": [
        "# ParallelTempering Solver with timeout = 120 seconds (Change the timeout value as you want)\n",
        "import time \n",
        "\n",
        "solver = ParallelTempering(workspace, timeout = 120)\n",
        "sum_execution_time_pt = 0.0\n",
        "pt_runs = []\n",
        "\n",
        "# Solving the problem to store the route\n",
        "route = solver.optimize(OptimizationProblem)                                 \n",
        "print(route)\n",
        "\n",
        "# The for loop is only for obtaining the average execution time\n",
        "for i in range(20):  \n",
        "    start = time.time()\n",
        "    solver.optimize(OptimizationProblem) \n",
        "    end = time.time() - start\n",
        "    PathDict = ReadResults(route['configuration'], NodeName, CostMatrix, NumNodes)\n",
        "    print(PathDict)\n",
        "    sum_execution_time_pt += end\n",
        "    pt_runs.append(end)     \n",
        "\n",
        "avg_execution_time_pt = sum_execution_time_pt/20\n",
        "print(\"--- %s average execution time in seconds ---\" % (avg_execution_time_pt))\n",
        "print(*pt_runs, sep=' ')"
      ]
    },
    {
      "cell_type": "code",
      "execution_count": null,
      "metadata": {
        "id": "-WBJsgvPSKJu",
        "outputId": "4a7e9ac7-b53e-4b45-fde9-a569ce3d2cab"
      },
      "outputs": [
        {
          "name": "stdout",
          "output_type": "stream",
          "text": [
            "...{'version': '1.0', 'configuration': {'0': 1, '1': 0, '2': 0, '3': 0, '4': 0, '5': 0, '6': 0, '7': 1, '8': 0, '9': 0, '10': 0, '11': 1, '12': 0, '13': 0, '14': 0, '15': 0, '16': 0, '17': 0, '18': 0, '19': 1, '20': 0, '21': 0, '22': 0, '23': 1, '24': 0, '25': 1, '26': 0, '27': 0, '28': 0, '29': 0}, 'cost': -219.0, 'parameters': {'restarts': 360, 'seed': 2733834385, 'sweeps': 10, 'tabu_tenure': 0, 'timeout': 120.0}, 'solutions': [{'configuration': {'0': 1, '1': 0, '2': 0, '3': 0, '4': 0, '5': 0, '6': 0, '7': 1, '8': 0, '9': 0, '10': 0, '11': 1, '12': 0, '13': 0, '14': 0, '15': 0, '16': 0, '17': 0, '18': 0, '19': 1, '20': 0, '21': 0, '22': 0, '23': 1, '24': 0, '25': 1, '26': 0, '27': 0, '28': 0, '29': 0}, 'cost': -219.0}]}\n",
            "...Number of nodes passed = 5. This is valid!\n",
            "Number of different nodes passed = 5. This is valid!\n",
            "Start and end node are the same. This is valid!\n",
            "Valid route!\n",
            "{'Route': {0: 'A', 1: 'C', 2: 'B', 3: 'E', 4: 'D', 5: 'A'}, 'RouteCost': {'Cost': 19.0}}\n",
            "...Number of nodes passed = 5. This is valid!\n",
            "Number of different nodes passed = 5. This is valid!\n",
            "Start and end node are the same. This is valid!\n",
            "Valid route!\n",
            "{'Route': {0: 'A', 1: 'C', 2: 'B', 3: 'E', 4: 'D', 5: 'A'}, 'RouteCost': {'Cost': 19.0}}\n",
            "....Number of nodes passed = 5. This is valid!\n",
            "Number of different nodes passed = 5. This is valid!\n",
            "Start and end node are the same. This is valid!\n",
            "Valid route!\n",
            "{'Route': {0: 'A', 1: 'C', 2: 'B', 3: 'E', 4: 'D', 5: 'A'}, 'RouteCost': {'Cost': 19.0}}\n",
            "....Number of nodes passed = 5. This is valid!\n",
            "Number of different nodes passed = 5. This is valid!\n",
            "Start and end node are the same. This is valid!\n",
            "Valid route!\n",
            "{'Route': {0: 'A', 1: 'C', 2: 'B', 3: 'E', 4: 'D', 5: 'A'}, 'RouteCost': {'Cost': 19.0}}\n",
            "...Number of nodes passed = 5. This is valid!\n",
            "Number of different nodes passed = 5. This is valid!\n",
            "Start and end node are the same. This is valid!\n",
            "Valid route!\n",
            "{'Route': {0: 'A', 1: 'C', 2: 'B', 3: 'E', 4: 'D', 5: 'A'}, 'RouteCost': {'Cost': 19.0}}\n",
            "...Number of nodes passed = 5. This is valid!\n",
            "Number of different nodes passed = 5. This is valid!\n",
            "Start and end node are the same. This is valid!\n",
            "Valid route!\n",
            "{'Route': {0: 'A', 1: 'C', 2: 'B', 3: 'E', 4: 'D', 5: 'A'}, 'RouteCost': {'Cost': 19.0}}\n",
            "...Number of nodes passed = 5. This is valid!\n",
            "Number of different nodes passed = 5. This is valid!\n",
            "Start and end node are the same. This is valid!\n",
            "Valid route!\n",
            "{'Route': {0: 'A', 1: 'C', 2: 'B', 3: 'E', 4: 'D', 5: 'A'}, 'RouteCost': {'Cost': 19.0}}\n",
            "...Number of nodes passed = 5. This is valid!\n",
            "Number of different nodes passed = 5. This is valid!\n",
            "Start and end node are the same. This is valid!\n",
            "Valid route!\n",
            "{'Route': {0: 'A', 1: 'C', 2: 'B', 3: 'E', 4: 'D', 5: 'A'}, 'RouteCost': {'Cost': 19.0}}\n",
            "...Number of nodes passed = 5. This is valid!\n",
            "Number of different nodes passed = 5. This is valid!\n",
            "Start and end node are the same. This is valid!\n",
            "Valid route!\n",
            "{'Route': {0: 'A', 1: 'C', 2: 'B', 3: 'E', 4: 'D', 5: 'A'}, 'RouteCost': {'Cost': 19.0}}\n",
            "...Number of nodes passed = 5. This is valid!\n",
            "Number of different nodes passed = 5. This is valid!\n",
            "Start and end node are the same. This is valid!\n",
            "Valid route!\n",
            "{'Route': {0: 'A', 1: 'C', 2: 'B', 3: 'E', 4: 'D', 5: 'A'}, 'RouteCost': {'Cost': 19.0}}\n",
            "...Number of nodes passed = 5. This is valid!\n",
            "Number of different nodes passed = 5. This is valid!\n",
            "Start and end node are the same. This is valid!\n",
            "Valid route!\n",
            "{'Route': {0: 'A', 1: 'C', 2: 'B', 3: 'E', 4: 'D', 5: 'A'}, 'RouteCost': {'Cost': 19.0}}\n",
            "....Number of nodes passed = 5. This is valid!\n",
            "Number of different nodes passed = 5. This is valid!\n",
            "Start and end node are the same. This is valid!\n",
            "Valid route!\n",
            "{'Route': {0: 'A', 1: 'C', 2: 'B', 3: 'E', 4: 'D', 5: 'A'}, 'RouteCost': {'Cost': 19.0}}\n",
            "....Number of nodes passed = 5. This is valid!\n",
            "Number of different nodes passed = 5. This is valid!\n",
            "Start and end node are the same. This is valid!\n",
            "Valid route!\n",
            "{'Route': {0: 'A', 1: 'C', 2: 'B', 3: 'E', 4: 'D', 5: 'A'}, 'RouteCost': {'Cost': 19.0}}\n",
            "...Number of nodes passed = 5. This is valid!\n",
            "Number of different nodes passed = 5. This is valid!\n",
            "Start and end node are the same. This is valid!\n",
            "Valid route!\n",
            "{'Route': {0: 'A', 1: 'C', 2: 'B', 3: 'E', 4: 'D', 5: 'A'}, 'RouteCost': {'Cost': 19.0}}\n",
            "....Number of nodes passed = 5. This is valid!\n",
            "Number of different nodes passed = 5. This is valid!\n",
            "Start and end node are the same. This is valid!\n",
            "Valid route!\n",
            "{'Route': {0: 'A', 1: 'C', 2: 'B', 3: 'E', 4: 'D', 5: 'A'}, 'RouteCost': {'Cost': 19.0}}\n",
            "....Number of nodes passed = 5. This is valid!\n",
            "Number of different nodes passed = 5. This is valid!\n",
            "Start and end node are the same. This is valid!\n",
            "Valid route!\n",
            "{'Route': {0: 'A', 1: 'C', 2: 'B', 3: 'E', 4: 'D', 5: 'A'}, 'RouteCost': {'Cost': 19.0}}\n",
            "...Number of nodes passed = 5. This is valid!\n",
            "Number of different nodes passed = 5. This is valid!\n",
            "Start and end node are the same. This is valid!\n",
            "Valid route!\n",
            "{'Route': {0: 'A', 1: 'C', 2: 'B', 3: 'E', 4: 'D', 5: 'A'}, 'RouteCost': {'Cost': 19.0}}\n",
            "...Number of nodes passed = 5. This is valid!\n",
            "Number of different nodes passed = 5. This is valid!\n",
            "Start and end node are the same. This is valid!\n",
            "Valid route!\n",
            "{'Route': {0: 'A', 1: 'C', 2: 'B', 3: 'E', 4: 'D', 5: 'A'}, 'RouteCost': {'Cost': 19.0}}\n",
            "....Number of nodes passed = 5. This is valid!\n",
            "Number of different nodes passed = 5. This is valid!\n",
            "Start and end node are the same. This is valid!\n",
            "Valid route!\n",
            "{'Route': {0: 'A', 1: 'C', 2: 'B', 3: 'E', 4: 'D', 5: 'A'}, 'RouteCost': {'Cost': 19.0}}\n",
            "...Number of nodes passed = 5. This is valid!\n",
            "Number of different nodes passed = 5. This is valid!\n",
            "Start and end node are the same. This is valid!\n",
            "Valid route!\n",
            "{'Route': {0: 'A', 1: 'C', 2: 'B', 3: 'E', 4: 'D', 5: 'A'}, 'RouteCost': {'Cost': 19.0}}\n",
            "--- 2.776179075241089 average execution time in seconds ---\n",
            "2.2117841243743896 2.2294459342956543 2.9013679027557373 2.9439353942871094 2.3491926193237305 2.268568754196167 2.4567530155181885 2.2376723289489746 2.245877504348755 2.3898091316223145 2.256636142730713 2.9153761863708496 7.98460054397583 2.3714215755462646 3.225904703140259 2.958390951156616 2.2025723457336426 2.34155011177063 2.883375406265259 2.1493468284606934\n"
          ]
        }
      ],
      "source": [
        "# Tabu Solver with timeout = 120 seconds (Change the timeout value as you want)\n",
        "import time \n",
        "\n",
        "solver = Tabu(workspace, timeout = 120)\n",
        "sum_execution_time_tb = 0.0\n",
        "tb_runs = []\n",
        "\n",
        "# Solving the problem to store the route\n",
        "route = solver.optimize(OptimizationProblem)                                 \n",
        "print(route)\n",
        "\n",
        "# The for loop is only for obtaining the average execution time\n",
        "for i in range(20):  \n",
        "    start = time.time()\n",
        "    solver.optimize(OptimizationProblem) \n",
        "    end = time.time() - start\n",
        "    PathDict = ReadResults(route['configuration'], NodeName, CostMatrix, NumNodes)\n",
        "    print(PathDict)\n",
        "    sum_execution_time_tb += end\n",
        "    tb_runs.append(end)     \n",
        "\n",
        "avg_execution_time_tb = sum_execution_time_tb/20\n",
        "print(\"--- %s average execution time in seconds ---\" % (avg_execution_time_tb))\n",
        "print(*tb_runs, sep=' ')"
      ]
    },
    {
      "cell_type": "code",
      "execution_count": null,
      "metadata": {
        "id": "LGrsjaA1SKJv",
        "outputId": "06385c35-299d-47ef-b8db-fc1eef8dc919"
      },
      "outputs": [
        {
          "name": "stdout",
          "output_type": "stream",
          "text": [
            "....{'version': '1.0', 'configuration': {'0': 1, '1': 0, '2': 0, '3': 0, '4': 0, '5': 0, '6': 0, '7': 0, '8': 1, '9': 0, '10': 0, '11': 0, '12': 0, '13': 0, '14': 1, '15': 0, '16': 1, '17': 0, '18': 0, '19': 0, '20': 0, '21': 0, '22': 1, '23': 0, '24': 0, '25': 1, '26': 0, '27': 0, '28': 0, '29': 0}, 'cost': -219.0, 'parameters': {'beta_start': 0.1, 'beta_stop': 1.0, 'restarts': 72, 'seed': 22, 'sweeps': 2, 'transverse_field_high': 5.0, 'transverse_field_low': 0.0, 'trotter_number': 10}, 'solutions': [{'configuration': {'0': 1, '1': 0, '2': 0, '3': 0, '4': 0, '5': 0, '6': 0, '7': 0, '8': 1, '9': 0, '10': 0, '11': 0, '12': 0, '13': 0, '14': 1, '15': 0, '16': 1, '17': 0, '18': 0, '19': 0, '20': 0, '21': 0, '22': 1, '23': 0, '24': 0, '25': 1, '26': 0, '27': 0, '28': 0, '29': 0}, 'cost': -219.0}]}\n",
            "...Number of nodes passed = 5. This is valid!\n",
            "Number of different nodes passed = 5. This is valid!\n",
            "Start and end node are the same. This is valid!\n",
            "Valid route!\n",
            "{'Route': {0: 'A', 1: 'D', 2: 'E', 3: 'B', 4: 'C', 5: 'A'}, 'RouteCost': {'Cost': 19.0}}\n",
            "...Number of nodes passed = 5. This is valid!\n",
            "Number of different nodes passed = 5. This is valid!\n",
            "Start and end node are the same. This is valid!\n",
            "Valid route!\n",
            "{'Route': {0: 'A', 1: 'D', 2: 'E', 3: 'B', 4: 'C', 5: 'A'}, 'RouteCost': {'Cost': 19.0}}\n",
            "....Number of nodes passed = 5. This is valid!\n",
            "Number of different nodes passed = 5. This is valid!\n",
            "Start and end node are the same. This is valid!\n",
            "Valid route!\n",
            "{'Route': {0: 'A', 1: 'D', 2: 'E', 3: 'B', 4: 'C', 5: 'A'}, 'RouteCost': {'Cost': 19.0}}\n",
            "....Number of nodes passed = 5. This is valid!\n",
            "Number of different nodes passed = 5. This is valid!\n",
            "Start and end node are the same. This is valid!\n",
            "Valid route!\n",
            "{'Route': {0: 'A', 1: 'D', 2: 'E', 3: 'B', 4: 'C', 5: 'A'}, 'RouteCost': {'Cost': 19.0}}\n",
            "...Number of nodes passed = 5. This is valid!\n",
            "Number of different nodes passed = 5. This is valid!\n",
            "Start and end node are the same. This is valid!\n",
            "Valid route!\n",
            "{'Route': {0: 'A', 1: 'D', 2: 'E', 3: 'B', 4: 'C', 5: 'A'}, 'RouteCost': {'Cost': 19.0}}\n",
            "....Number of nodes passed = 5. This is valid!\n",
            "Number of different nodes passed = 5. This is valid!\n",
            "Start and end node are the same. This is valid!\n",
            "Valid route!\n",
            "{'Route': {0: 'A', 1: 'D', 2: 'E', 3: 'B', 4: 'C', 5: 'A'}, 'RouteCost': {'Cost': 19.0}}\n",
            "...Number of nodes passed = 5. This is valid!\n",
            "Number of different nodes passed = 5. This is valid!\n",
            "Start and end node are the same. This is valid!\n",
            "Valid route!\n",
            "{'Route': {0: 'A', 1: 'D', 2: 'E', 3: 'B', 4: 'C', 5: 'A'}, 'RouteCost': {'Cost': 19.0}}\n",
            "....Number of nodes passed = 5. This is valid!\n",
            "Number of different nodes passed = 5. This is valid!\n",
            "Start and end node are the same. This is valid!\n",
            "Valid route!\n",
            "{'Route': {0: 'A', 1: 'D', 2: 'E', 3: 'B', 4: 'C', 5: 'A'}, 'RouteCost': {'Cost': 19.0}}\n",
            "...Number of nodes passed = 5. This is valid!\n",
            "Number of different nodes passed = 5. This is valid!\n",
            "Start and end node are the same. This is valid!\n",
            "Valid route!\n",
            "{'Route': {0: 'A', 1: 'D', 2: 'E', 3: 'B', 4: 'C', 5: 'A'}, 'RouteCost': {'Cost': 19.0}}\n",
            "...Number of nodes passed = 5. This is valid!\n",
            "Number of different nodes passed = 5. This is valid!\n",
            "Start and end node are the same. This is valid!\n",
            "Valid route!\n",
            "{'Route': {0: 'A', 1: 'D', 2: 'E', 3: 'B', 4: 'C', 5: 'A'}, 'RouteCost': {'Cost': 19.0}}\n",
            "...Number of nodes passed = 5. This is valid!\n",
            "Number of different nodes passed = 5. This is valid!\n",
            "Start and end node are the same. This is valid!\n",
            "Valid route!\n",
            "{'Route': {0: 'A', 1: 'D', 2: 'E', 3: 'B', 4: 'C', 5: 'A'}, 'RouteCost': {'Cost': 19.0}}\n",
            "...Number of nodes passed = 5. This is valid!\n",
            "Number of different nodes passed = 5. This is valid!\n",
            "Start and end node are the same. This is valid!\n",
            "Valid route!\n",
            "{'Route': {0: 'A', 1: 'D', 2: 'E', 3: 'B', 4: 'C', 5: 'A'}, 'RouteCost': {'Cost': 19.0}}\n",
            "...Number of nodes passed = 5. This is valid!\n",
            "Number of different nodes passed = 5. This is valid!\n",
            "Start and end node are the same. This is valid!\n",
            "Valid route!\n",
            "{'Route': {0: 'A', 1: 'D', 2: 'E', 3: 'B', 4: 'C', 5: 'A'}, 'RouteCost': {'Cost': 19.0}}\n",
            "...Number of nodes passed = 5. This is valid!\n",
            "Number of different nodes passed = 5. This is valid!\n",
            "Start and end node are the same. This is valid!\n",
            "Valid route!\n",
            "{'Route': {0: 'A', 1: 'D', 2: 'E', 3: 'B', 4: 'C', 5: 'A'}, 'RouteCost': {'Cost': 19.0}}\n",
            "...Number of nodes passed = 5. This is valid!\n",
            "Number of different nodes passed = 5. This is valid!\n",
            "Start and end node are the same. This is valid!\n",
            "Valid route!\n",
            "{'Route': {0: 'A', 1: 'D', 2: 'E', 3: 'B', 4: 'C', 5: 'A'}, 'RouteCost': {'Cost': 19.0}}\n",
            "....Number of nodes passed = 5. This is valid!\n",
            "Number of different nodes passed = 5. This is valid!\n",
            "Start and end node are the same. This is valid!\n",
            "Valid route!\n",
            "{'Route': {0: 'A', 1: 'D', 2: 'E', 3: 'B', 4: 'C', 5: 'A'}, 'RouteCost': {'Cost': 19.0}}\n",
            "....Number of nodes passed = 5. This is valid!\n",
            "Number of different nodes passed = 5. This is valid!\n",
            "Start and end node are the same. This is valid!\n",
            "Valid route!\n",
            "{'Route': {0: 'A', 1: 'D', 2: 'E', 3: 'B', 4: 'C', 5: 'A'}, 'RouteCost': {'Cost': 19.0}}\n",
            "....Number of nodes passed = 5. This is valid!\n",
            "Number of different nodes passed = 5. This is valid!\n",
            "Start and end node are the same. This is valid!\n",
            "Valid route!\n",
            "{'Route': {0: 'A', 1: 'D', 2: 'E', 3: 'B', 4: 'C', 5: 'A'}, 'RouteCost': {'Cost': 19.0}}\n",
            "....Number of nodes passed = 5. This is valid!\n",
            "Number of different nodes passed = 5. This is valid!\n",
            "Start and end node are the same. This is valid!\n",
            "Valid route!\n",
            "{'Route': {0: 'A', 1: 'D', 2: 'E', 3: 'B', 4: 'C', 5: 'A'}, 'RouteCost': {'Cost': 19.0}}\n",
            "....Number of nodes passed = 5. This is valid!\n",
            "Number of different nodes passed = 5. This is valid!\n",
            "Start and end node are the same. This is valid!\n",
            "Valid route!\n",
            "{'Route': {0: 'A', 1: 'D', 2: 'E', 3: 'B', 4: 'C', 5: 'A'}, 'RouteCost': {'Cost': 19.0}}\n",
            "--- 2.5865163803100586 average execution time in seconds ---\n",
            "2.2218258380889893 2.24644136428833 2.9706130027770996 3.115811347961426 2.237797737121582 3.0427889823913574 2.2707979679107666 3.1164355278015137 2.2370083332061768 2.286539077758789 2.192721128463745 2.2030177116394043 2.3936619758605957 2.2689852714538574 2.276945114135742 2.8841636180877686 2.919606924057007 3.0318682193756104 2.9109132289886475 2.9023852348327637\n"
          ]
        }
      ],
      "source": [
        "# QuantumMonteCarlo Solver\n",
        "\n",
        "solver = QuantumMonteCarlo(workspace, sweeps = 2, trotter_number = 10, restarts = 72, seed = 22, beta_start = 0.1, transverse_field_start = 10, transverse_field_stop = 0.1)\n",
        "sum_execution_time_mc = 0.0\n",
        "mc_runs = []\n",
        "\n",
        "# Solving the problem to store the route\n",
        "route = solver.optimize(OptimizationProblem)                                 \n",
        "print(route)\n",
        "\n",
        "# The for loop is only for obtaining the average execution time\n",
        "for i in range(20):  \n",
        "    start = time.time()\n",
        "    solver.optimize(OptimizationProblem) \n",
        "    end = time.time() - start\n",
        "    PathDict = ReadResults(route['configuration'], NodeName, CostMatrix, NumNodes)\n",
        "    print(PathDict)\n",
        "    sum_execution_time_mc += end\n",
        "    mc_runs.append(end)     \n",
        "\n",
        "avg_execution_time_mc = sum_execution_time_mc/20\n",
        "print(\"--- %s average execution time in seconds ---\" % (avg_execution_time_mc))\n",
        "print(*mc_runs, sep=' ')"
      ]
    },
    {
      "cell_type": "code",
      "execution_count": null,
      "metadata": {
        "id": "4xRLK2u6SKJy",
        "outputId": "fd35c956-dda2-4c0c-f674-986fc1bc4e03"
      },
      "outputs": [
        {
          "name": "stdout",
          "output_type": "stream",
          "text": [
            "Avg Exec Time per run for Simulated Annesling is 2.986125719547272\n",
            "Avg Exec Time per run for Parallel Tempering is 2.918784165382385\n",
            "Avg Exec Time per run for Tabu Search is 2.776179075241089\n",
            "Avg Exec Time per run for Quantom Monte Carlo is 2.5865163803100586\n"
          ]
        }
      ],
      "source": [
        "print(f\"Avg Exec Time per run for Simulated Annesling is {avg_execution_time_sa}\")\n",
        "print(f\"Avg Exec Time per run for Parallel Tempering is {avg_execution_time_pt}\")\n",
        "print(f\"Avg Exec Time per run for Tabu Search is {avg_execution_time_tb}\")\n",
        "print(f\"Avg Exec Time per run for Quantom Monte Carlo is {avg_execution_time_mc}\")"
      ]
    }
  ],
  "metadata": {
    "colab": {
      "collapsed_sections": [
        "aPM2eIHVPSb-",
        "9jBcFxKDPVow",
        "OpVnhxNwHVpi",
        "-k2JAHHj3mZU"
      ],
      "provenance": []
    },
    "gpuClass": "standard",
    "kernelspec": {
      "display_name": "Python 3",
      "name": "python3"
    },
    "language_info": {
      "name": "python"
    }
  },
  "nbformat": 4,
  "nbformat_minor": 0
}
